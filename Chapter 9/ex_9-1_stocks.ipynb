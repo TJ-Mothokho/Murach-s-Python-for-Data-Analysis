{
 "cells": [
  {
   "cell_type": "markdown",
   "metadata": {},
   "source": [
    "# Exercise 9-1: Analyze time-series data"
   ]
  },
  {
   "cell_type": "code",
   "execution_count": 1,
   "metadata": {},
   "outputs": [],
   "source": [
    "import pandas as pd\n",
    "import seaborn as sns"
   ]
  },
  {
   "cell_type": "code",
   "execution_count": 2,
   "metadata": {},
   "outputs": [
    {
     "name": "stdout",
     "output_type": "stream",
     "text": [
      "<class 'pandas.core.frame.DataFrame'>\n",
      "RangeIndex: 253 entries, 0 to 252\n",
      "Data columns (total 5 columns):\n",
      " #   Column  Non-Null Count  Dtype         \n",
      "---  ------  --------------  -----         \n",
      " 0   Date    253 non-null    datetime64[ns]\n",
      " 1   Open    253 non-null    float64       \n",
      " 2   High    253 non-null    float64       \n",
      " 3   Low     253 non-null    float64       \n",
      " 4   Close   253 non-null    float64       \n",
      "dtypes: datetime64[ns](1), float64(4)\n",
      "memory usage: 10.0 KB\n"
     ]
    }
   ],
   "source": [
    "stockData = pd.read_pickle('stocks.pkl')\n",
    "stockData.info()"
   ]
  },
  {
   "cell_type": "code",
   "execution_count": 3,
   "metadata": {},
   "outputs": [
    {
     "data": {
      "text/html": [
       "<div>\n",
       "<style scoped>\n",
       "    .dataframe tbody tr th:only-of-type {\n",
       "        vertical-align: middle;\n",
       "    }\n",
       "\n",
       "    .dataframe tbody tr th {\n",
       "        vertical-align: top;\n",
       "    }\n",
       "\n",
       "    .dataframe thead th {\n",
       "        text-align: right;\n",
       "    }\n",
       "</style>\n",
       "<table border=\"1\" class=\"dataframe\">\n",
       "  <thead>\n",
       "    <tr style=\"text-align: right;\">\n",
       "      <th></th>\n",
       "      <th>Date</th>\n",
       "      <th>Open</th>\n",
       "      <th>High</th>\n",
       "      <th>Low</th>\n",
       "      <th>Close</th>\n",
       "    </tr>\n",
       "  </thead>\n",
       "  <tbody>\n",
       "    <tr>\n",
       "      <th>0</th>\n",
       "      <td>2020-01-02</td>\n",
       "      <td>74.059998</td>\n",
       "      <td>75.150002</td>\n",
       "      <td>73.797501</td>\n",
       "      <td>75.087502</td>\n",
       "    </tr>\n",
       "    <tr>\n",
       "      <th>1</th>\n",
       "      <td>2020-01-03</td>\n",
       "      <td>74.287498</td>\n",
       "      <td>75.144997</td>\n",
       "      <td>74.125000</td>\n",
       "      <td>74.357498</td>\n",
       "    </tr>\n",
       "    <tr>\n",
       "      <th>2</th>\n",
       "      <td>2020-01-06</td>\n",
       "      <td>73.447502</td>\n",
       "      <td>74.989998</td>\n",
       "      <td>73.187500</td>\n",
       "      <td>74.949997</td>\n",
       "    </tr>\n",
       "    <tr>\n",
       "      <th>3</th>\n",
       "      <td>2020-01-07</td>\n",
       "      <td>74.959999</td>\n",
       "      <td>75.224998</td>\n",
       "      <td>74.370003</td>\n",
       "      <td>74.597504</td>\n",
       "    </tr>\n",
       "    <tr>\n",
       "      <th>4</th>\n",
       "      <td>2020-01-08</td>\n",
       "      <td>74.290001</td>\n",
       "      <td>76.110001</td>\n",
       "      <td>74.290001</td>\n",
       "      <td>75.797501</td>\n",
       "    </tr>\n",
       "  </tbody>\n",
       "</table>\n",
       "</div>"
      ],
      "text/plain": [
       "        Date       Open       High        Low      Close\n",
       "0 2020-01-02  74.059998  75.150002  73.797501  75.087502\n",
       "1 2020-01-03  74.287498  75.144997  74.125000  74.357498\n",
       "2 2020-01-06  73.447502  74.989998  73.187500  74.949997\n",
       "3 2020-01-07  74.959999  75.224998  74.370003  74.597504\n",
       "4 2020-01-08  74.290001  76.110001  74.290001  75.797501"
      ]
     },
     "execution_count": 3,
     "metadata": {},
     "output_type": "execute_result"
    }
   ],
   "source": [
    "# display the first five rows\n",
    "stockData.head()"
   ]
  },
  {
   "cell_type": "markdown",
   "metadata": {},
   "source": [
    "## Generate date ranges"
   ]
  },
  {
   "cell_type": "code",
   "execution_count": 4,
   "metadata": {},
   "outputs": [
    {
     "data": {
      "text/plain": [
       "DatetimeIndex(['2020-01-01', '2020-01-03', '2020-01-05', '2020-01-07',\n",
       "               '2020-01-09', '2020-01-11', '2020-01-13', '2020-01-15',\n",
       "               '2020-01-17', '2020-01-19',\n",
       "               ...\n",
       "               '2020-12-12', '2020-12-14', '2020-12-16', '2020-12-18',\n",
       "               '2020-12-20', '2020-12-22', '2020-12-24', '2020-12-26',\n",
       "               '2020-12-28', '2020-12-30'],\n",
       "              dtype='datetime64[ns]', length=183, freq='2D')"
      ]
     },
     "execution_count": 4,
     "metadata": {},
     "output_type": "execute_result"
    }
   ],
   "source": [
    "# generate a daterange for every other day in the year 2020\n",
    "every_other_day = pd.date_range(start='2020/01/01', end='2020/12/31', freq='2D')\n",
    "every_other_day"
   ]
  },
  {
   "cell_type": "code",
   "execution_count": 7,
   "metadata": {},
   "outputs": [
    {
     "data": {
      "text/plain": [
       "DatetimeIndex(['2020-01-01 00:00:00', '2020-01-01 03:00:00',\n",
       "               '2020-01-01 06:00:00', '2020-01-01 09:00:00',\n",
       "               '2020-01-01 12:00:00', '2020-01-01 15:00:00',\n",
       "               '2020-01-01 18:00:00', '2020-01-01 21:00:00',\n",
       "               '2020-01-02 00:00:00', '2020-01-02 03:00:00',\n",
       "               ...\n",
       "               '2020-12-30 18:00:00', '2020-12-30 21:00:00',\n",
       "               '2020-12-31 00:00:00', '2020-12-31 03:00:00',\n",
       "               '2020-12-31 06:00:00', '2020-12-31 09:00:00',\n",
       "               '2020-12-31 12:00:00', '2020-12-31 15:00:00',\n",
       "               '2020-12-31 18:00:00', '2020-12-31 21:00:00'],\n",
       "              dtype='datetime64[ns]', length=2928, freq='3H')"
      ]
     },
     "execution_count": 7,
     "metadata": {},
     "output_type": "execute_result"
    }
   ],
   "source": [
    "# generate a daterange for every 3 hours in 2020\n",
    "every_3hours = pd.date_range(start='2020/01/01', end='2020/12/31 23:59', freq='3H')\n",
    "every_3hours"
   ]
  },
  {
   "cell_type": "code",
   "execution_count": 8,
   "metadata": {},
   "outputs": [
    {
     "data": {
      "text/plain": [
       "DatetimeIndex(['2020-01-03', '2020-01-17', '2020-01-31', '2020-02-14',\n",
       "               '2020-02-28', '2020-03-13', '2020-03-27', '2020-04-10',\n",
       "               '2020-04-24', '2020-05-08', '2020-05-22', '2020-06-05',\n",
       "               '2020-06-19', '2020-07-03', '2020-07-17', '2020-07-31',\n",
       "               '2020-08-14', '2020-08-28', '2020-09-11', '2020-09-25',\n",
       "               '2020-10-09', '2020-10-23', '2020-11-06', '2020-11-20',\n",
       "               '2020-12-04', '2020-12-18'],\n",
       "              dtype='datetime64[ns]', freq='2W-FRI')"
      ]
     },
     "execution_count": 8,
     "metadata": {},
     "output_type": "execute_result"
    }
   ],
   "source": [
    "# generate a date range for every other Friday in 2020\n",
    "every_other_friday = pd.date_range(start='2020/01/01', end='2020/12/31', freq='2W-FRI')\n",
    "every_other_friday"
   ]
  },
  {
   "cell_type": "markdown",
   "metadata": {},
   "source": [
    "## Reindex the data"
   ]
  },
  {
   "cell_type": "code",
   "execution_count": null,
   "metadata": {},
   "outputs": [],
   "source": [
    "# set an index on the date column for the stock data"
   ]
  },
  {
   "cell_type": "code",
   "execution_count": null,
   "metadata": {},
   "outputs": [],
   "source": [
    "# reindex the data so the data contains only Fridays \n",
    "# and assign the result to a variable called stockDataFridays"
   ]
  },
  {
   "cell_type": "code",
   "execution_count": null,
   "metadata": {},
   "outputs": [],
   "source": [
    "# use Pandas to plot the Close column of the reindexed data"
   ]
  },
  {
   "cell_type": "markdown",
   "metadata": {},
   "source": [
    "## Resample the data"
   ]
  },
  {
   "cell_type": "code",
   "execution_count": null,
   "metadata": {},
   "outputs": [],
   "source": [
    "# downsample the data to a monthly frequency"
   ]
  },
  {
   "cell_type": "code",
   "execution_count": null,
   "metadata": {},
   "outputs": [],
   "source": [
    "# use Pandas to plot the Close column of the resampled data"
   ]
  },
  {
   "cell_type": "markdown",
   "metadata": {},
   "source": [
    "## Compute a rolling window"
   ]
  },
  {
   "cell_type": "code",
   "execution_count": null,
   "metadata": {},
   "outputs": [],
   "source": [
    "# compute a 2 week rolling average for the Close column\n",
    "# set the min_periods to 1 and assign the data to a variable called stocksRolling"
   ]
  },
  {
   "cell_type": "code",
   "execution_count": null,
   "metadata": {},
   "outputs": [],
   "source": [
    "# use Pandas to plot the Close column of the rolling data"
   ]
  }
 ],
 "metadata": {
  "kernelspec": {
   "display_name": "base",
   "language": "python",
   "name": "python3"
  },
  "language_info": {
   "codemirror_mode": {
    "name": "ipython",
    "version": 3
   },
   "file_extension": ".py",
   "mimetype": "text/x-python",
   "name": "python",
   "nbconvert_exporter": "python",
   "pygments_lexer": "ipython3",
   "version": "3.9.7"
  }
 },
 "nbformat": 4,
 "nbformat_minor": 4
}
